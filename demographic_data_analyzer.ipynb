{
 "cells": [
  {
   "cell_type": "code",
   "execution_count": 3,
   "id": "49a7c193",
   "metadata": {},
   "outputs": [],
   "source": [
    "import pandas as pd"
   ]
  },
  {
   "cell_type": "markdown",
   "id": "ad50dcc4",
   "metadata": {},
   "source": [
    "### convert dataset to pandas dataframe"
   ]
  },
  {
   "cell_type": "code",
   "execution_count": 195,
   "id": "d84f5e4a",
   "metadata": {},
   "outputs": [
    {
     "data": {
      "text/html": [
       "<div>\n",
       "<style scoped>\n",
       "    .dataframe tbody tr th:only-of-type {\n",
       "        vertical-align: middle;\n",
       "    }\n",
       "\n",
       "    .dataframe tbody tr th {\n",
       "        vertical-align: top;\n",
       "    }\n",
       "\n",
       "    .dataframe thead th {\n",
       "        text-align: right;\n",
       "    }\n",
       "</style>\n",
       "<table border=\"1\" class=\"dataframe\">\n",
       "  <thead>\n",
       "    <tr style=\"text-align: right;\">\n",
       "      <th></th>\n",
       "      <th>age</th>\n",
       "      <th>workclass</th>\n",
       "      <th>fnlwgt</th>\n",
       "      <th>education</th>\n",
       "      <th>education-num</th>\n",
       "      <th>marital-status</th>\n",
       "      <th>occupation</th>\n",
       "      <th>relationship</th>\n",
       "      <th>race</th>\n",
       "      <th>sex</th>\n",
       "      <th>capital-gain</th>\n",
       "      <th>capital-loss</th>\n",
       "      <th>hours-per-week</th>\n",
       "      <th>native-country</th>\n",
       "      <th>salary</th>\n",
       "    </tr>\n",
       "  </thead>\n",
       "  <tbody>\n",
       "    <tr>\n",
       "      <th>0</th>\n",
       "      <td>39</td>\n",
       "      <td>State-gov</td>\n",
       "      <td>77516</td>\n",
       "      <td>Bachelors</td>\n",
       "      <td>13</td>\n",
       "      <td>Never-married</td>\n",
       "      <td>Adm-clerical</td>\n",
       "      <td>Not-in-family</td>\n",
       "      <td>White</td>\n",
       "      <td>Male</td>\n",
       "      <td>2174</td>\n",
       "      <td>0</td>\n",
       "      <td>40</td>\n",
       "      <td>United-States</td>\n",
       "      <td>&lt;=50K</td>\n",
       "    </tr>\n",
       "    <tr>\n",
       "      <th>1</th>\n",
       "      <td>50</td>\n",
       "      <td>Self-emp-not-inc</td>\n",
       "      <td>83311</td>\n",
       "      <td>Bachelors</td>\n",
       "      <td>13</td>\n",
       "      <td>Married-civ-spouse</td>\n",
       "      <td>Exec-managerial</td>\n",
       "      <td>Husband</td>\n",
       "      <td>White</td>\n",
       "      <td>Male</td>\n",
       "      <td>0</td>\n",
       "      <td>0</td>\n",
       "      <td>13</td>\n",
       "      <td>United-States</td>\n",
       "      <td>&lt;=50K</td>\n",
       "    </tr>\n",
       "    <tr>\n",
       "      <th>2</th>\n",
       "      <td>38</td>\n",
       "      <td>Private</td>\n",
       "      <td>215646</td>\n",
       "      <td>HS-grad</td>\n",
       "      <td>9</td>\n",
       "      <td>Divorced</td>\n",
       "      <td>Handlers-cleaners</td>\n",
       "      <td>Not-in-family</td>\n",
       "      <td>White</td>\n",
       "      <td>Male</td>\n",
       "      <td>0</td>\n",
       "      <td>0</td>\n",
       "      <td>40</td>\n",
       "      <td>United-States</td>\n",
       "      <td>&lt;=50K</td>\n",
       "    </tr>\n",
       "    <tr>\n",
       "      <th>3</th>\n",
       "      <td>53</td>\n",
       "      <td>Private</td>\n",
       "      <td>234721</td>\n",
       "      <td>11th</td>\n",
       "      <td>7</td>\n",
       "      <td>Married-civ-spouse</td>\n",
       "      <td>Handlers-cleaners</td>\n",
       "      <td>Husband</td>\n",
       "      <td>Black</td>\n",
       "      <td>Male</td>\n",
       "      <td>0</td>\n",
       "      <td>0</td>\n",
       "      <td>40</td>\n",
       "      <td>United-States</td>\n",
       "      <td>&lt;=50K</td>\n",
       "    </tr>\n",
       "    <tr>\n",
       "      <th>4</th>\n",
       "      <td>28</td>\n",
       "      <td>Private</td>\n",
       "      <td>338409</td>\n",
       "      <td>Bachelors</td>\n",
       "      <td>13</td>\n",
       "      <td>Married-civ-spouse</td>\n",
       "      <td>Prof-specialty</td>\n",
       "      <td>Wife</td>\n",
       "      <td>Black</td>\n",
       "      <td>Female</td>\n",
       "      <td>0</td>\n",
       "      <td>0</td>\n",
       "      <td>40</td>\n",
       "      <td>Cuba</td>\n",
       "      <td>&lt;=50K</td>\n",
       "    </tr>\n",
       "  </tbody>\n",
       "</table>\n",
       "</div>"
      ],
      "text/plain": [
       "   age         workclass  fnlwgt  education  education-num  \\\n",
       "0   39         State-gov   77516  Bachelors             13   \n",
       "1   50  Self-emp-not-inc   83311  Bachelors             13   \n",
       "2   38           Private  215646    HS-grad              9   \n",
       "3   53           Private  234721       11th              7   \n",
       "4   28           Private  338409  Bachelors             13   \n",
       "\n",
       "       marital-status         occupation   relationship   race     sex  \\\n",
       "0       Never-married       Adm-clerical  Not-in-family  White    Male   \n",
       "1  Married-civ-spouse    Exec-managerial        Husband  White    Male   \n",
       "2            Divorced  Handlers-cleaners  Not-in-family  White    Male   \n",
       "3  Married-civ-spouse  Handlers-cleaners        Husband  Black    Male   \n",
       "4  Married-civ-spouse     Prof-specialty           Wife  Black  Female   \n",
       "\n",
       "   capital-gain  capital-loss  hours-per-week native-country salary  \n",
       "0          2174             0              40  United-States  <=50K  \n",
       "1             0             0              13  United-States  <=50K  \n",
       "2             0             0              40  United-States  <=50K  \n",
       "3             0             0              40  United-States  <=50K  \n",
       "4             0             0              40           Cuba  <=50K  "
      ]
     },
     "execution_count": 195,
     "metadata": {},
     "output_type": "execute_result"
    }
   ],
   "source": [
    "df = pd.read_csv(\"adult_data.csv\")\n",
    "df.drop_duplicates(keep=False)\n",
    "df.head()"
   ]
  },
  {
   "cell_type": "markdown",
   "id": "5c351035",
   "metadata": {},
   "source": [
    "### calculate how many race are represented"
   ]
  },
  {
   "cell_type": "code",
   "execution_count": 208,
   "id": "cbef66dd",
   "metadata": {},
   "outputs": [
    {
     "data": {
      "text/html": [
       "<div>\n",
       "<style scoped>\n",
       "    .dataframe tbody tr th:only-of-type {\n",
       "        vertical-align: middle;\n",
       "    }\n",
       "\n",
       "    .dataframe tbody tr th {\n",
       "        vertical-align: top;\n",
       "    }\n",
       "\n",
       "    .dataframe thead th {\n",
       "        text-align: right;\n",
       "    }\n",
       "</style>\n",
       "<table border=\"1\" class=\"dataframe\">\n",
       "  <thead>\n",
       "    <tr style=\"text-align: right;\">\n",
       "      <th></th>\n",
       "      <th>counts</th>\n",
       "      <th>per</th>\n",
       "      <th>per100</th>\n",
       "    </tr>\n",
       "  </thead>\n",
       "  <tbody>\n",
       "    <tr>\n",
       "      <th>White</th>\n",
       "      <td>27816</td>\n",
       "      <td>0.854274</td>\n",
       "      <td>85.4</td>\n",
       "    </tr>\n",
       "    <tr>\n",
       "      <th>Black</th>\n",
       "      <td>3124</td>\n",
       "      <td>0.095943</td>\n",
       "      <td>9.6</td>\n",
       "    </tr>\n",
       "    <tr>\n",
       "      <th>Asian-Pac-Islander</th>\n",
       "      <td>1039</td>\n",
       "      <td>0.031909</td>\n",
       "      <td>3.2</td>\n",
       "    </tr>\n",
       "    <tr>\n",
       "      <th>Amer-Indian-Eskimo</th>\n",
       "      <td>311</td>\n",
       "      <td>0.009551</td>\n",
       "      <td>1.0</td>\n",
       "    </tr>\n",
       "    <tr>\n",
       "      <th>Other</th>\n",
       "      <td>271</td>\n",
       "      <td>0.008323</td>\n",
       "      <td>0.8</td>\n",
       "    </tr>\n",
       "  </tbody>\n",
       "</table>\n",
       "</div>"
      ],
      "text/plain": [
       "                    counts       per  per100\n",
       "White                27816  0.854274    85.4\n",
       "Black                 3124  0.095943     9.6\n",
       "Asian-Pac-Islander    1039  0.031909     3.2\n",
       "Amer-Indian-Eskimo     311  0.009551     1.0\n",
       "Other                  271  0.008323     0.8"
      ]
     },
     "execution_count": 208,
     "metadata": {},
     "output_type": "execute_result"
    }
   ],
   "source": [
    "percent100 = df['race'].value_counts(normalize=True).mul(100).round(1)\n",
    "counts = df['race'].value_counts()\n",
    "percent = df['race'].value_counts(normalize=True)\n",
    "temp = pd.DataFrame({'counts': counts, 'per': percent, 'per100': percent100})\n",
    "temp"
   ]
  },
  {
   "cell_type": "markdown",
   "id": "966e215b",
   "metadata": {},
   "source": [
    "### Average age of men"
   ]
  },
  {
   "cell_type": "code",
   "execution_count": 197,
   "id": "bff23480",
   "metadata": {},
   "outputs": [
    {
     "data": {
      "text/plain": [
       "39.4"
      ]
     },
     "execution_count": 197,
     "metadata": {},
     "output_type": "execute_result"
    }
   ],
   "source": [
    "male = df.loc[(df['sex'] == 'Male'), ['age']]\n",
    "round(male['age'].mean(), 1)"
   ]
  },
  {
   "cell_type": "markdown",
   "id": "c93bc3f9",
   "metadata": {},
   "source": [
    "### Percentage of people who have a Bachelor's degree:"
   ]
  },
  {
   "cell_type": "code",
   "execution_count": 210,
   "id": "3e8b47ea",
   "metadata": {},
   "outputs": [
    {
     "data": {
      "text/plain": [
       "16.4"
      ]
     },
     "execution_count": 210,
     "metadata": {},
     "output_type": "execute_result"
    }
   ],
   "source": [
    "bachelors = df.loc[(df['education'] == 'Bachelors')]\n",
    "round(len(bachelors) / len(df) * 100, 1)"
   ]
  },
  {
   "cell_type": "markdown",
   "id": "d8cf06af",
   "metadata": {},
   "source": [
    "### Percentage of people with advanced education (`Bachelors`, `Masters`, or `Doctorate`) make more than 50K"
   ]
  },
  {
   "cell_type": "code",
   "execution_count": 202,
   "id": "ebdb3087",
   "metadata": {},
   "outputs": [
    {
     "data": {
      "text/plain": [
       "46.5"
      ]
     },
     "execution_count": 202,
     "metadata": {},
     "output_type": "execute_result"
    }
   ],
   "source": [
    "higher_education = df[(df['education'].isin(['Bachelors', 'Masters', 'Doctorate']))]\n",
    "count_rich = higher_education[higher_education['salary'] == '>50K'].shape[0]\n",
    "percent_rich = round(count_rich / higher_education.shape[0] * 100, 1)\n",
    "percent_rich"
   ]
  },
  {
   "cell_type": "markdown",
   "id": "cf2b5c6e",
   "metadata": {},
   "source": [
    "### Percentage of people without advanced education make more than 50K"
   ]
  },
  {
   "cell_type": "code",
   "execution_count": 203,
   "id": "67d9e116",
   "metadata": {},
   "outputs": [
    {
     "data": {
      "text/plain": [
       "17.4"
      ]
     },
     "execution_count": 203,
     "metadata": {},
     "output_type": "execute_result"
    }
   ],
   "source": [
    "low_education = df[~(df.education.isin(['Bachelors', 'Masters', 'Doctorate']))]\n",
    "count_poor = low_education[low_education['salary'] == '>50K'].shape[0]\n",
    "percent_poor = round(count_poor / low_education.shape[0] * 100, 1)\n",
    "percent_poor"
   ]
  },
  {
   "cell_type": "markdown",
   "id": "a1fa45af",
   "metadata": {},
   "source": [
    "### Percentage of the people who work the minimum number of hours per week have a salary of >50K"
   ]
  },
  {
   "cell_type": "code",
   "execution_count": 204,
   "id": "45c58020",
   "metadata": {},
   "outputs": [
    {
     "data": {
      "text/plain": [
       "10.0"
      ]
     },
     "execution_count": 204,
     "metadata": {},
     "output_type": "execute_result"
    }
   ],
   "source": [
    "min_work = df.loc[(df['hours-per-week'] == 1)]\n",
    "count_min_work = min_work[min_work['salary'] == '>50K'].shape[0]\n",
    "percent_min_work = round(count_min_work / min_work.shape[0] * 100, 1)\n",
    "percent_min_work"
   ]
  },
  {
   "cell_type": "markdown",
   "id": "f235a2c0",
   "metadata": {},
   "source": [
    "### What country has the highest percentage of people that earn >50K? What Percent?"
   ]
  },
  {
   "cell_type": "code",
   "execution_count": 207,
   "id": "0a4df8a8",
   "metadata": {},
   "outputs": [
    {
     "name": "stdout",
     "output_type": "stream",
     "text": [
      "Iran\n"
     ]
    },
    {
     "data": {
      "text/plain": [
       "41.9"
      ]
     },
     "execution_count": 207,
     "metadata": {},
     "output_type": "execute_result"
    }
   ],
   "source": [
    "countries = []\n",
    "for country in df['native-country'].unique():\n",
    "    my_df = df[df['native-country'] == country]\n",
    "    num_of_ppl = my_df.shape[0]\n",
    "    num_of_rich_ppl = my_df[my_df['salary'] == '>50K'].shape[0]\n",
    "    percent = round(num_of_rich_ppl / num_of_ppl * 100, 1)\n",
    "    countries.append(percent)\n",
    "best_perc = max(countries)\n",
    "max_index = countries.index(best_perc)\n",
    "country = df['native-country'].unique()[max_index]\n",
    "print(country)\n",
    "best_perc"
   ]
  },
  {
   "cell_type": "markdown",
   "id": "c098a985",
   "metadata": {},
   "source": [
    "### The most popular occupation for those who earn >50K in India."
   ]
  },
  {
   "cell_type": "code",
   "execution_count": 211,
   "id": "35154f14",
   "metadata": {},
   "outputs": [],
   "source": [
    "india_rich = df.loc[(df['native-country'] == 'India')  & (df['salary'] == '>50K')]\n",
    "india_rich_count = india_rich['occupation'].value_counts()\n",
    "best_occupation_in_india = india_rich_count[india_rich_count==max(india_rich_count)].index[0]"
   ]
  }
 ],
 "metadata": {
  "kernelspec": {
   "display_name": "Python 3 (ipykernel)",
   "language": "python",
   "name": "python3"
  },
  "language_info": {
   "codemirror_mode": {
    "name": "ipython",
    "version": 3
   },
   "file_extension": ".py",
   "mimetype": "text/x-python",
   "name": "python",
   "nbconvert_exporter": "python",
   "pygments_lexer": "ipython3",
   "version": "3.9.7"
  }
 },
 "nbformat": 4,
 "nbformat_minor": 5
}
